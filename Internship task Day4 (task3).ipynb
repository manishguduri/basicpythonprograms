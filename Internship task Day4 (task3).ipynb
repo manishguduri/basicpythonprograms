{
 "cells": [
  {
   "cell_type": "markdown",
   "id": "66581733",
   "metadata": {},
   "source": [
    "###### Program-1\n",
    "* Take input from the user, and check weather the length ofstring is even or odd\n",
    "* If string length is odd access one middle character\n",
    "* If string length is even access two middle characters\n"
   ]
  },
  {
   "cell_type": "code",
   "execution_count": 10,
   "id": "c8453ea5",
   "metadata": {},
   "outputs": [
    {
     "name": "stdout",
     "output_type": "stream",
     "text": [
      "Enter any string: Manish\n",
      "Length of the string is even\n",
      "So, two middle characters of the string is  ni\n"
     ]
    }
   ],
   "source": [
    "s=str(input(\"Enter any string: \"))\n",
    "if len(s)%2!=0:\n",
    "    print(\"Length of the string is odd\")\n",
    "    print(\"So, the middle character of the string is: \",s[len(s)//2])\n",
    "else:\n",
    "    print(\"Length of the string is even\")\n",
    "    print(\"So, two middle characters of the string is \",s[(len(s)-1)//2:(len(s)+2)//2])\n"
   ]
  },
  {
   "cell_type": "code",
   "execution_count": null,
   "id": "d36d02ed",
   "metadata": {},
   "outputs": [],
   "source": []
  },
  {
   "cell_type": "code",
   "execution_count": null,
   "id": "3cc5e871",
   "metadata": {},
   "outputs": [],
   "source": []
  }
 ],
 "metadata": {
  "kernelspec": {
   "display_name": "Python 3",
   "language": "python",
   "name": "python3"
  },
  "language_info": {
   "codemirror_mode": {
    "name": "ipython",
    "version": 3
   },
   "file_extension": ".py",
   "mimetype": "text/x-python",
   "name": "python",
   "nbconvert_exporter": "python",
   "pygments_lexer": "ipython3",
   "version": "3.8.8"
  }
 },
 "nbformat": 4,
 "nbformat_minor": 5
}
