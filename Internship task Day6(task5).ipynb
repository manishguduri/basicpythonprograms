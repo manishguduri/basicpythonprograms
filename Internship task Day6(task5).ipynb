{
 "cells": [
  {
   "cell_type": "markdown",
   "id": "1071bd26",
   "metadata": {},
   "source": [
    "- **Write a Python script to print a dictionary where the keys are numbers between 1 and 15 (both included) and the values are square of keys**"
   ]
  },
  {
   "cell_type": "code",
   "execution_count": 2,
   "id": "7c248314",
   "metadata": {},
   "outputs": [
    {
     "name": "stdout",
     "output_type": "stream",
     "text": [
      "{1: 1, 2: 4, 3: 9, 4: 16, 5: 25, 6: 36, 7: 49, 8: 64, 9: 81, 10: 100, 11: 121, 12: 144, 13: 169, 14: 196, 15: 225}\n"
     ]
    }
   ],
   "source": [
    "d={}\n",
    "for i in range(1,16):\n",
    "    d[i]=i*i\n",
    "print(d)"
   ]
  },
  {
   "cell_type": "markdown",
   "id": "10ec92ab",
   "metadata": {},
   "source": [
    "- **Write a Python program to map two lists into a dictionary**"
   ]
  },
  {
   "cell_type": "code",
   "execution_count": 1,
   "id": "8a203077",
   "metadata": {},
   "outputs": [
    {
     "name": "stdout",
     "output_type": "stream",
     "text": [
      "Enter the number of values: 10\n",
      "Enter the keys:\n",
      "1\n",
      "2\n",
      "3\n",
      "4\n",
      "5\n",
      "9\n",
      "iam\n",
      "standared\n",
      "batch\n",
      "7\n",
      "Enter the vlaues:\n",
      "3\n",
      "5\n",
      "9\n",
      "1\n",
      "4\n",
      "g\n",
      "Manish\n",
      "15\n",
      "2019\n",
      "r\n"
     ]
    },
    {
     "data": {
      "text/plain": [
       "{'1': '3',\n",
       " '2': '5',\n",
       " '3': '9',\n",
       " '4': '1',\n",
       " '5': '4',\n",
       " '9': 'g',\n",
       " 'iam': 'Manish',\n",
       " 'standared': '15',\n",
       " 'batch': '2019',\n",
       " '7': 'r'}"
      ]
     },
     "execution_count": 1,
     "metadata": {},
     "output_type": "execute_result"
    }
   ],
   "source": [
    "keys=[]\n",
    "values=[]\n",
    "n=int(input(\"Enter the number of values: \"))\n",
    "print(\"Enter the keys:\")\n",
    "for i in range(n):\n",
    "    k=input()\n",
    "    keys.append(k)\n",
    "print(\"Enter the vlaues:\")\n",
    "for i in range(n):\n",
    "    v=input()\n",
    "    values.append(v)\n",
    "d={}\n",
    "for i in range(n):\n",
    "    d[keys[i]]=values[i]\n",
    "d"
   ]
  },
  {
   "cell_type": "markdown",
   "id": "46f47407",
   "metadata": {},
   "source": [
    "- **Write a Python program to sort a list alphabetically in a dictionary**\n",
    "    * input : {'n1': [2, 3, 1], 'n2': [5, 1, 2], 'n3': [3, 2, 4]}\n",
    "    * output : {'n1': [1, 2, 3], 'n2': [1, 2, 5], 'n3': [2, 3, 4]}"
   ]
  },
  {
   "cell_type": "code",
   "execution_count": 4,
   "id": "8c12b18a",
   "metadata": {},
   "outputs": [
    {
     "name": "stdout",
     "output_type": "stream",
     "text": [
      "{'n1': [1, 2, 3], 'n2': [1, 2, 5], 'n3': [2, 3, 4]}\n"
     ]
    }
   ],
   "source": [
    "d1={'n1': [2, 3, 1], 'n2': [5, 1, 2], 'n3': [3, 2, 4]}\n",
    "print({k:sorted(v) for k,v in d1.items()})\n",
    "    "
   ]
  },
  {
   "cell_type": "code",
   "execution_count": null,
   "id": "62ba0d1e",
   "metadata": {},
   "outputs": [],
   "source": []
  }
 ],
 "metadata": {
  "kernelspec": {
   "display_name": "Python 3",
   "language": "python",
   "name": "python3"
  },
  "language_info": {
   "codemirror_mode": {
    "name": "ipython",
    "version": 3
   },
   "file_extension": ".py",
   "mimetype": "text/x-python",
   "name": "python",
   "nbconvert_exporter": "python",
   "pygments_lexer": "ipython3",
   "version": "3.8.8"
  }
 },
 "nbformat": 4,
 "nbformat_minor": 5
}
