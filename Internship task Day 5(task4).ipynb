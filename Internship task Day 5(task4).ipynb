{
 "cells": [
  {
   "cell_type": "markdown",
   "id": "8d7acfa4",
   "metadata": {},
   "source": [
    "* 1) Program to convert list of items into string"
   ]
  },
  {
   "cell_type": "code",
   "execution_count": 3,
   "id": "2f82921d",
   "metadata": {},
   "outputs": [
    {
     "name": "stdout",
     "output_type": "stream",
     "text": [
      "Hello Everyone..! Iam Manish\n"
     ]
    }
   ],
   "source": [
    "l=['Hello',' Everyone..!',' Iam ','Manish']\n",
    "s=\"\"\n",
    "print(s.join(l))"
   ]
  },
  {
   "cell_type": "markdown",
   "id": "1d2295a3",
   "metadata": {},
   "source": [
    "* 2) Write a program to seperate even and odd numbers in the list"
   ]
  },
  {
   "cell_type": "code",
   "execution_count": 18,
   "id": "371f6235",
   "metadata": {},
   "outputs": [
    {
     "name": "stdout",
     "output_type": "stream",
     "text": [
      "Even elements of list are:  [3, 5, 7, 9, 10, 13, 14, 15]\n",
      "Odd elements of list are:  [0, 1, 2, 4, 6, 8, 11, 12]\n"
     ]
    }
   ],
   "source": [
    "li=[1,23,3,4,5,6,7,8,9,0,2,21,27,12,14,18]\n",
    "el=[]\n",
    "ol=[]\n",
    "for i in range(len(li)):\n",
    "    if li[i]%2==0:\n",
    "        el.append(i)\n",
    "    else:\n",
    "        ol.append(i)\n",
    "print(\"Even elements of list are: \",el)\n",
    "print(\"Odd elements of list are: \",ol)"
   ]
  },
  {
   "cell_type": "markdown",
   "id": "4716be29",
   "metadata": {},
   "source": [
    "* 3) Write a Python program to remove duplicates from a list"
   ]
  },
  {
   "cell_type": "code",
   "execution_count": 10,
   "id": "5eaae454",
   "metadata": {},
   "outputs": [
    {
     "data": {
      "text/plain": [
       "[1, 23, 3, 4, 5, 6, 7, 8, 9, 0, 2, 21, 27, 12, 14, 18]"
      ]
     },
     "execution_count": 10,
     "metadata": {},
     "output_type": "execute_result"
    }
   ],
   "source": [
    "li=[1,23,3,4,5,6,7,8,9,0,2,21,27,12,14,18,4,6,8,1]\n",
    "el=[]\n",
    "for i in range(len(li)):\n",
    "    if li[i] not in el:\n",
    "       el.append(li[i])\n",
    "    else:\n",
    "        pass\n",
    "el"
   ]
  },
  {
   "cell_type": "markdown",
   "id": "a3e3a50b",
   "metadata": {},
   "source": [
    "* 4) Write a Python program to check a list is empty or not."
   ]
  },
  {
   "cell_type": "code",
   "execution_count": 4,
   "id": "a615fcbc",
   "metadata": {},
   "outputs": [
    {
     "name": "stdout",
     "output_type": "stream",
     "text": [
      "Enter the number of elements: 4\n",
      "MANISH\n",
      "RAMU\n",
      "4\n",
      "6.334\n",
      "['MANISH', 'RAMU', '4', '6.334']\n",
      "List has  4  elements\n"
     ]
    }
   ],
   "source": [
    "l=[]\n",
    "n=int(input(\"Enter the number of elements: \"))\n",
    "for i in range(n):\n",
    "    a=input()\n",
    "    l.append(a)\n",
    "print(l)\n",
    "if len(l)==0:\n",
    "    print(\"List is empty\")\n",
    "else:\n",
    "    print(\"List has \",n,\" elements\")\n"
   ]
  },
  {
   "cell_type": "markdown",
   "id": "79157ae1",
   "metadata": {},
   "source": [
    "* 5) Write a Python program to print a specified list after removing the 0th, 4th and 5th elements."
   ]
  },
  {
   "cell_type": "code",
   "execution_count": 12,
   "id": "6e7c3a49",
   "metadata": {},
   "outputs": [
    {
     "data": {
      "text/plain": [
       "[23, 3, 4, 5, 7, 9, 0, 2, 21, 27, 12, 14, 18, 4, 6, 8, 1]"
      ]
     },
     "execution_count": 12,
     "metadata": {},
     "output_type": "execute_result"
    }
   ],
   "source": [
    "li=[1,23,3,4,5,6,7,8,9,0,2,21,27,12,14,18,4,6,8,1]\n",
    "del li[0]\n",
    "del li[4]\n",
    "del li[5]\n",
    "li"
   ]
  },
  {
   "cell_type": "markdown",
   "id": "6b79ae3e",
   "metadata": {},
   "source": [
    "\n",
    "\n",
    "* 6) Write a Python function that takes two lists and returns True if they have at least one common member."
   ]
  },
  {
   "cell_type": "code",
   "execution_count": 16,
   "id": "1f20e113",
   "metadata": {},
   "outputs": [
    {
     "name": "stdout",
     "output_type": "stream",
     "text": [
      "Enter the number of elements in list1: 4\n",
      "Enter the number of elements in list2: 6\n",
      "Enter the elements of list 1\n",
      "1\n",
      "2\n",
      "3\n",
      "4\n",
      "Enter the elemets of list2\n",
      "5\n",
      "6\n",
      "7\n",
      "8\n",
      "9\n",
      "10\n",
      "List 1 is  ['1', '2', '3', '4']\n",
      "List 2 is  ['5', '6', '7', '8', '9', '10']\n",
      "No matching found\n"
     ]
    }
   ],
   "source": [
    "l1=[]\n",
    "l2=[]\n",
    "n1=int(input(\"Enter the number of elements in list1: \"))\n",
    "n2=int(input(\"Enter the number of elements in list2: \"))\n",
    "print(\"Enter the elements of list 1\")\n",
    "for i in range(n1):\n",
    "    e1=input()\n",
    "    l1.append(e1)\n",
    "print(\"Enter the elemets of list2\")\n",
    "for i in range(n2):\n",
    "    e2=input()\n",
    "    l2.append(e2)\n",
    "print(\"List 1 is \",l1)\n",
    "print(\"List 2 is \",l2)\n",
    "# to check  if they have common elements\n",
    "for i in range(len(l1)):\n",
    "    if l1[i] in l2:\n",
    "        print(\"True\")\n",
    "        break\n",
    "    else:\n",
    "        k=0\n",
    "if k==0:\n",
    "    print(\"No matching found\")\n"
   ]
  },
  {
   "cell_type": "markdown",
   "id": "657075de",
   "metadata": {},
   "source": [
    "* 7) Write a program to remove duplicates and print tuple except last value\n",
    "* input : (\"a\",\"b\",\"c\",\"b\",\"a\")\n",
    "* output : (\"a\",\"b\")"
   ]
  },
  {
   "cell_type": "code",
   "execution_count": 17,
   "id": "915b4185",
   "metadata": {},
   "outputs": [
    {
     "name": "stdout",
     "output_type": "stream",
     "text": [
      "('a', 1, 2, 'b', 4, 6, 8, 'l')\n"
     ]
    }
   ],
   "source": [
    "t=('a',1,2 ,'b',2,4,6,4,8,'l')\n",
    "l=[]\n",
    "for i in t:\n",
    "    if i not in l:\n",
    "        l.append(i)\n",
    "print(tuple(l))"
   ]
  },
  {
   "cell_type": "markdown",
   "id": "17c2e715",
   "metadata": {},
   "source": [
    "* 8) write a program to replace element by given element\n",
    "* input : (\"hi\",\"hello\",\"Sorry\",\"bye\")\n",
    "\n",
    "* element : Sorry\n",
    "\n",
    "* new Element : Good\n",
    "\n",
    "* ouput : (\"hi\",\"hello\",\"Good\",\"bye\")"
   ]
  },
  {
   "cell_type": "code",
   "execution_count": 7,
   "id": "4806326a",
   "metadata": {},
   "outputs": [
    {
     "data": {
      "text/plain": [
       "('hi', 'hello', 'Good', 'bye')"
      ]
     },
     "execution_count": 7,
     "metadata": {},
     "output_type": "execute_result"
    }
   ],
   "source": [
    "a=('hi','hello','sorry','bye')\n",
    "# converting tuple to list\n",
    "b=list(a)\n",
    "#Replacing the 'sorry' element with 'Good'\n",
    "i=b.index('sorry')\n",
    "b[i]='Good'\n",
    "tuple(b)"
   ]
  },
  {
   "cell_type": "markdown",
   "id": "848004ca",
   "metadata": {},
   "source": [
    "* 9) Write a python program to sum all the elements of the list "
   ]
  },
  {
   "cell_type": "code",
   "execution_count": 3,
   "id": "9974c400",
   "metadata": {},
   "outputs": [
    {
     "name": "stdout",
     "output_type": "stream",
     "text": [
      "Enter the number of elements: 10\n",
      "Enter the list elements\n",
      "1\n",
      "2\n",
      "3\n",
      "4\n",
      "5\n",
      "6\n",
      "7\n",
      "8\n",
      "9\n",
      "10\n",
      "List is:  [1, 2, 3, 4, 5, 6, 7, 8, 9, 10]\n",
      "Sum of elements of the list is 55\n"
     ]
    }
   ],
   "source": [
    "n=int(input(\"Enter the number of elements: \"))\n",
    "l=[]\n",
    "print(\"Enter the list elements\")\n",
    "for i in range(n):\n",
    "    a=int(input())\n",
    "    l.append(a)\n",
    "print(\"List is: \",l)\n",
    "#to sum the elements of list\n",
    "s=0\n",
    "for i in range(len(l)):\n",
    "    s=s+l[i]\n",
    "print(\"Sum of elements of the list is\",s)\n"
   ]
  },
  {
   "cell_type": "code",
   "execution_count": null,
   "id": "6ba81262",
   "metadata": {},
   "outputs": [],
   "source": []
  }
 ],
 "metadata": {
  "kernelspec": {
   "display_name": "Python 3",
   "language": "python",
   "name": "python3"
  },
  "language_info": {
   "codemirror_mode": {
    "name": "ipython",
    "version": 3
   },
   "file_extension": ".py",
   "mimetype": "text/x-python",
   "name": "python",
   "nbconvert_exporter": "python",
   "pygments_lexer": "ipython3",
   "version": "3.8.8"
  }
 },
 "nbformat": 4,
 "nbformat_minor": 5
}
