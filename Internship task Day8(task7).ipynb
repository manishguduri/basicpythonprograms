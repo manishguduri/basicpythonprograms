{
 "cells": [
  {
   "cell_type": "markdown",
   "id": "cc54426b",
   "metadata": {},
   "source": [
    "### 1.create a function for finding the leap years within the given range"
   ]
  },
  {
   "cell_type": "code",
   "execution_count": 11,
   "id": "c71bec91",
   "metadata": {},
   "outputs": [
    {
     "name": "stdout",
     "output_type": "stream",
     "text": [
      "2001 2100\n",
      "The leap years between  2001 and  2100 are\n",
      "2004\n",
      "2008\n",
      "2012\n",
      "2016\n",
      "2020\n",
      "2024\n",
      "2028\n",
      "2032\n",
      "2036\n",
      "2040\n",
      "2044\n",
      "2048\n",
      "2052\n",
      "2056\n",
      "2060\n",
      "2064\n",
      "2068\n",
      "2072\n",
      "2076\n",
      "2080\n",
      "2084\n",
      "2088\n",
      "2092\n",
      "2096\n"
     ]
    }
   ],
   "source": [
    "def leap_range():\n",
    "    a,b=map(int, input().split())\n",
    "    print(\"The leap years between \",a,\"and \",b,\"are\")\n",
    "    for i in range(a,b+1):\n",
    "        if (i%4==0 and i%100!=0) or (i%400==0):\n",
    "            print(i)\n",
    "leap_range()"
   ]
  },
  {
   "cell_type": "markdown",
   "id": "efc164ce",
   "metadata": {},
   "source": [
    "### 2.Create a function for getting the armstrong numbers within the given range"
   ]
  },
  {
   "cell_type": "code",
   "execution_count": 14,
   "id": "178829f8",
   "metadata": {},
   "outputs": [
    {
     "name": "stdout",
     "output_type": "stream",
     "text": [
      "0 155\n",
      "0\n",
      "1\n",
      "153\n"
     ]
    }
   ],
   "source": [
    "def armstrong_range():\n",
    "    a,b=map(int, input().split())\n",
    "    for i in range(a,b+1):\n",
    "        s=0\n",
    "        t=i\n",
    "        while i>0:\n",
    "            r=i%10\n",
    "            s+=r**3\n",
    "            i=i//10\n",
    "        if s==t:\n",
    "           print(t)\n",
    "        else:\n",
    "           pass\n",
    "armstrong_range()"
   ]
  },
  {
   "cell_type": "markdown",
   "id": "3d5493d4",
   "metadata": {},
   "source": [
    "### 3.create a function for getting the prime numbers within the range"
   ]
  },
  {
   "cell_type": "code",
   "execution_count": 20,
   "id": "599aaa25",
   "metadata": {},
   "outputs": [
    {
     "name": "stdout",
     "output_type": "stream",
     "text": [
      "Enter lower range: 2\n",
      "Enter upper range: 100\n",
      "2,3,5,7,11,13,17,19,23,29,31,37,41,43,47,53,59,61,67,71,73,79,83,89,97,"
     ]
    }
   ],
   "source": [
    "def prime():\n",
    "    start = int(input(\"Enter lower range: \"))  \n",
    "    end = int(input(\"Enter upper range: \"))  \n",
    "    for num in range(start,end + 1):\n",
    "        if num > 1:\n",
    "            for i in range(2,num):\n",
    "                if (num % i) == 0:\n",
    "                    break\n",
    "            else:\n",
    "                    print(num,end=\",\") \n",
    "prime()"
   ]
  },
  {
   "cell_type": "markdown",
   "id": "267459d9",
   "metadata": {},
   "source": [
    "### 4. Create a function for finding the count of elements in a string. \"Srm university\""
   ]
  },
  {
   "cell_type": "code",
   "execution_count": 21,
   "id": "97175d71",
   "metadata": {},
   "outputs": [
    {
     "name": "stdout",
     "output_type": "stream",
     "text": [
      "Enter the string SRM University AP\n"
     ]
    },
    {
     "data": {
      "text/plain": [
       "{'s': 2,\n",
       " 'r': 2,\n",
       " 'm': 1,\n",
       " ' ': 2,\n",
       " 'u': 1,\n",
       " 'n': 1,\n",
       " 'i': 2,\n",
       " 'v': 1,\n",
       " 'e': 1,\n",
       " 't': 1,\n",
       " 'y': 1,\n",
       " 'a': 1,\n",
       " 'p': 1}"
      ]
     },
     "execution_count": 21,
     "metadata": {},
     "output_type": "execute_result"
    }
   ],
   "source": [
    "def count():\n",
    "    a=input(\"Enter the string \")\n",
    "    c=a.lower()\n",
    "    b={}\n",
    "    for i in c:\n",
    "        if i in b:\n",
    "            b[i]=b[i]+1\n",
    "        else:\n",
    "            b[i]=1\n",
    "    return b           \n",
    "count()"
   ]
  },
  {
   "cell_type": "code",
   "execution_count": null,
   "id": "7a715a01",
   "metadata": {},
   "outputs": [],
   "source": []
  }
 ],
 "metadata": {
  "kernelspec": {
   "display_name": "Python 3",
   "language": "python",
   "name": "python3"
  },
  "language_info": {
   "codemirror_mode": {
    "name": "ipython",
    "version": 3
   },
   "file_extension": ".py",
   "mimetype": "text/x-python",
   "name": "python",
   "nbconvert_exporter": "python",
   "pygments_lexer": "ipython3",
   "version": "3.8.8"
  }
 },
 "nbformat": 4,
 "nbformat_minor": 5
}
