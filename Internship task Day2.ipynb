{
 "cells": [
  {
   "cell_type": "code",
   "execution_count": 1,
   "id": "e1873ece",
   "metadata": {},
   "outputs": [
    {
     "name": "stdout",
     "output_type": "stream",
     "text": [
      "AP19110010011\n",
      "AP19110010011  belongs to CSE dept\n"
     ]
    }
   ],
   "source": [
    "#program to find the given admission number belongs to which group\n",
    "#Take last 3 values of admition number\n",
    "#If value starts with \"01\"----> 'CSE dept'\n",
    "#If value starts with \"11\"----> 'IT dept'\n",
    "#If value starts with \"21\"----> 'Mech/ECE dept'\n",
    "string=str(input())\n",
    "if string[-3:].startswith('01'):\n",
    "    print(string,\" belongs to CSE dept\")\n",
    "elif string[-3:].startswith('11'):\n",
    "    print(string,\" belongs to IT dept\")\n",
    "elif  string[-3:].startswith('21'):\n",
    "    print(string,\" belongs to ECE/Mech dept\")\n",
    "else:\n",
    "    print(string,\" doe's not belongs to University....\")"
   ]
  },
  {
   "cell_type": "code",
   "execution_count": 2,
   "id": "65dba116",
   "metadata": {},
   "outputs": [
    {
     "name": "stdout",
     "output_type": "stream",
     "text": [
      "1804\t1808\t1812\t1816\t1820\t1824\t1828\t1832\t1836\t1840\t1844\t1848\t1852\t1856\t1860\t1864\t1868\t1872\t1876\t1880\t1884\t1888\t1892\t1896\t1904\t1908\t1912\t1916\t1920\t1924\t1928\t1932\t1936\t1940\t1944\t1948\t1952\t1956\t1960\t1964\t1968\t1972\t1976\t1980\t1984\t1988\t1992\t1996\t2000\t2004\t2008\t2012\t2016\t2020\t"
     ]
    }
   ],
   "source": [
    "# Program to print Leap years between 1800-2021\n",
    "for year in range(1800,2021):\n",
    "    if(year%4==0 and year%100!=0) or (year%400==0):\n",
    "        print(year, end=\"\\t\")"
   ]
  },
  {
   "cell_type": "code",
   "execution_count": null,
   "id": "299238f2",
   "metadata": {},
   "outputs": [],
   "source": []
  }
 ],
 "metadata": {
  "kernelspec": {
   "display_name": "Python 3",
   "language": "python",
   "name": "python3"
  },
  "language_info": {
   "codemirror_mode": {
    "name": "ipython",
    "version": 3
   },
   "file_extension": ".py",
   "mimetype": "text/x-python",
   "name": "python",
   "nbconvert_exporter": "python",
   "pygments_lexer": "ipython3",
   "version": "3.8.8"
  }
 },
 "nbformat": 4,
 "nbformat_minor": 5
}
