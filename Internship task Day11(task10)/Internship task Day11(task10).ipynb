{
 "cells": [
  {
   "cell_type": "markdown",
   "id": "505ddebe",
   "metadata": {},
   "source": [
    "## Tasks"
   ]
  },
  {
   "cell_type": "markdown",
   "id": "e00d3f6b",
   "metadata": {},
   "source": [
    "**Write a program for getting the last five lines from the file**"
   ]
  },
  {
   "cell_type": "code",
   "execution_count": 11,
   "id": "5c84001a",
   "metadata": {},
   "outputs": [],
   "source": [
    "f=open(\"task10.txt\",\"w\")\n",
    "f2=f.write(\"First line \\n\")\n",
    "f.close()"
   ]
  },
  {
   "cell_type": "code",
   "execution_count": 12,
   "id": "efdb0a78",
   "metadata": {},
   "outputs": [],
   "source": [
    "f=open(\"task10.txt\",'a')\n",
    "f2=f.write('''Second line \n",
    "Third line\n",
    "Fourth line\n",
    "Fifth line\n",
    "Sixth line\n",
    "Seventh line\n",
    "Eighth line\n",
    "Ninth line\n",
    "Tenth line''')\n"
   ]
  },
  {
   "cell_type": "code",
   "execution_count": null,
   "id": "5585684a",
   "metadata": {},
   "outputs": [],
   "source": []
  },
  {
   "cell_type": "code",
   "execution_count": 13,
   "id": "c9b841ff",
   "metadata": {},
   "outputs": [
    {
     "name": "stdout",
     "output_type": "stream",
     "text": [
      "First line \n",
      "Second line\n",
      "Third line\n",
      "Fourth line\n",
      "Fifth line\n",
      "Sixth line\n",
      "Seventh line\n",
      "Eighth line\n",
      "Ninth line\n",
      "Tenth line\n"
     ]
    }
   ],
   "source": [
    "f=open(\"task10.txt\",'r')\n",
    "f2=f.read()\n",
    "print(f2)"
   ]
  },
  {
   "cell_type": "code",
   "execution_count": 20,
   "id": "313be488",
   "metadata": {},
   "outputs": [
    {
     "name": "stdout",
     "output_type": "stream",
     "text": [
      "Sixth line\n",
      "\n",
      "Seventh line\n",
      "\n",
      "Eighth line\n",
      "\n",
      "Ninth line\n",
      "\n",
      "Tenth line\n"
     ]
    }
   ],
   "source": [
    "f=open(\"task10.txt\",'r')\n",
    "for i in (f.readlines()[-5:]):\n",
    "    print(i)"
   ]
  },
  {
   "cell_type": "markdown",
   "id": "dd57503e",
   "metadata": {},
   "source": [
    "**Create a function for appending the data into the file**"
   ]
  },
  {
   "cell_type": "code",
   "execution_count": 21,
   "id": "06d0c697",
   "metadata": {},
   "outputs": [
    {
     "name": "stdout",
     "output_type": "stream",
     "text": [
      "Enter the data to append : Eleventh line----By Manish\n"
     ]
    }
   ],
   "source": [
    "#Function to append data in the fine\n",
    "def append_data(f_name):\n",
    "    data=input(\"Enter the data to append : \")\n",
    "    with open(f_name,'a') as f:\n",
    "        f.write(data)\n",
    "        f.close()\n",
    "append_data('task10.txt')"
   ]
  },
  {
   "cell_type": "code",
   "execution_count": 22,
   "id": "a2d25c9e",
   "metadata": {},
   "outputs": [
    {
     "name": "stdout",
     "output_type": "stream",
     "text": [
      "First line \n",
      "Second line\n",
      "Third line\n",
      "Fourth line\n",
      "Fifth line\n",
      "Sixth line\n",
      "Seventh line\n",
      "Eighth line\n",
      "Ninth line\n",
      "Tenth lineEleventh line----By Manish\n"
     ]
    }
   ],
   "source": [
    "f=open(\"task10.txt\",'r')\n",
    "f2=f.read()\n",
    "print(f2)"
   ]
  },
  {
   "cell_type": "markdown",
   "id": "606cf865",
   "metadata": {},
   "source": [
    "**Create a program for updating a word in the file**"
   ]
  },
  {
   "cell_type": "code",
   "execution_count": 23,
   "id": "c53e1b41",
   "metadata": {},
   "outputs": [],
   "source": [
    "f=open('task10_2.txt','w')\n",
    "f2=f.write('Hi..! Good Morning Iam  Manish from SRM University AP')\n"
   ]
  },
  {
   "cell_type": "code",
   "execution_count": 24,
   "id": "65a6f9b2",
   "metadata": {},
   "outputs": [],
   "source": [
    "f.close()"
   ]
  },
  {
   "cell_type": "code",
   "execution_count": 1,
   "id": "4e630134",
   "metadata": {},
   "outputs": [
    {
     "name": "stdout",
     "output_type": "stream",
     "text": [
      "Enter the data to replace: Hi\n",
      "Enter the data to be replaced with: Hello\n",
      "Enter the file name: task10_2.txt\n"
     ]
    }
   ],
   "source": [
    "import re\n",
    "d1=input(\"Enter the data to replace: \")\n",
    "d2=input(\"Enter the data to be replaced with: \")\n",
    "f_name=input(\"Enter the file name: \")\n",
    "with open(f_name,'r+') as f:\n",
    "    text=f.read()\n",
    "    text=re.sub(d1,d2,text)\n",
    "    f.seek(0)\n",
    "    f.write(text)\n",
    "    f.close()"
   ]
  },
  {
   "cell_type": "code",
   "execution_count": 2,
   "id": "9d629920",
   "metadata": {},
   "outputs": [
    {
     "name": "stdout",
     "output_type": "stream",
     "text": [
      "Hello..! Good Morning Iam  Manish from SRM University AP\n"
     ]
    }
   ],
   "source": [
    "# Hi.. changes to Hello..\n",
    "f=open('task10_2.txt','r')\n",
    "print(f.read())"
   ]
  },
  {
   "cell_type": "code",
   "execution_count": null,
   "id": "1b1296ea",
   "metadata": {},
   "outputs": [],
   "source": []
  }
 ],
 "metadata": {
  "kernelspec": {
   "display_name": "Python 3",
   "language": "python",
   "name": "python3"
  },
  "language_info": {
   "codemirror_mode": {
    "name": "ipython",
    "version": 3
   },
   "file_extension": ".py",
   "mimetype": "text/x-python",
   "name": "python",
   "nbconvert_exporter": "python",
   "pygments_lexer": "ipython3",
   "version": "3.8.8"
  }
 },
 "nbformat": 4,
 "nbformat_minor": 5
}
