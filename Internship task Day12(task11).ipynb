{
 "cells": [
  {
   "cell_type": "markdown",
   "id": "72954a91",
   "metadata": {},
   "source": [
    "**Take a list of years between 1800-2030.Display all the leap year which is divisible by 5**"
   ]
  },
  {
   "cell_type": "code",
   "execution_count": 7,
   "id": "d5358029",
   "metadata": {},
   "outputs": [
    {
     "name": "stdout",
     "output_type": "stream",
     "text": [
      "Enter the starting year : 2001\n",
      "Enter the ending year : 2100\n",
      "[2020, 2040, 2060, 2080]\n"
     ]
    }
   ],
   "source": [
    "a=int(input('Enter the starting year : '))\n",
    "b=int(input('Enter the ending year : '))\n",
    "\n",
    "print([yr for yr in range(a,b+1) if (yr % 4 == 0 and yr % 5 == 0 and yr % 100 != 0) or (yr % 400 == 0)])"
   ]
  },
  {
   "cell_type": "code",
   "execution_count": null,
   "id": "1acc3cbd",
   "metadata": {},
   "outputs": [],
   "source": []
  }
 ],
 "metadata": {
  "kernelspec": {
   "display_name": "Python 3",
   "language": "python",
   "name": "python3"
  },
  "language_info": {
   "codemirror_mode": {
    "name": "ipython",
    "version": 3
   },
   "file_extension": ".py",
   "mimetype": "text/x-python",
   "name": "python",
   "nbconvert_exporter": "python",
   "pygments_lexer": "ipython3",
   "version": "3.8.8"
  }
 },
 "nbformat": 4,
 "nbformat_minor": 5
}
