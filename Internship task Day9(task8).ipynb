{
 "cells": [
  {
   "cell_type": "markdown",
   "id": "1d9ab8c8",
   "metadata": {},
   "source": [
    "#### Tasks\n",
    "- write a program in module\n",
    "- ask the user to enter the data\n",
    "- check the data if it's camelcase print Like (Thumbsup)emoji\n",
    "- else convert the data into camelcase then speakout Successfully converted your data into camel case"
   ]
  },
  {
   "cell_type": "code",
   "execution_count": 1,
   "id": "f023af8c",
   "metadata": {},
   "outputs": [
    {
     "name": "stdout",
     "output_type": "stream",
     "text": [
      "mnish id\n",
      "Mnish Id\n"
     ]
    }
   ],
   "source": [
    "import module\n",
    "module.camelcaseon()"
   ]
  },
  {
   "cell_type": "code",
   "execution_count": 2,
   "id": "9de4e1d5",
   "metadata": {},
   "outputs": [
    {
     "name": "stdout",
     "output_type": "stream",
     "text": [
      "Manish Student\n",
      "👍\n"
     ]
    }
   ],
   "source": [
    "import module\n",
    "module.camelcaseon()"
   ]
  },
  {
   "cell_type": "code",
   "execution_count": null,
   "id": "860187e2",
   "metadata": {},
   "outputs": [],
   "source": []
  }
 ],
 "metadata": {
  "kernelspec": {
   "display_name": "Python 3",
   "language": "python",
   "name": "python3"
  },
  "language_info": {
   "codemirror_mode": {
    "name": "ipython",
    "version": 3
   },
   "file_extension": ".py",
   "mimetype": "text/x-python",
   "name": "python",
   "nbconvert_exporter": "python",
   "pygments_lexer": "ipython3",
   "version": "3.8.8"
  }
 },
 "nbformat": 4,
 "nbformat_minor": 5
}
