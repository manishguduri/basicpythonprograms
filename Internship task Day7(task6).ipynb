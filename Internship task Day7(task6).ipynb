{
 "cells": [
  {
   "cell_type": "markdown",
   "id": "718d2011",
   "metadata": {},
   "source": [
    "### 1. Write a pattern to display 4 digit numbers from list"
   ]
  },
  {
   "cell_type": "code",
   "execution_count": 1,
   "id": "7aac7fe4",
   "metadata": {},
   "outputs": [
    {
     "name": "stdout",
     "output_type": "stream",
     "text": [
      "4545\n",
      "1234\n",
      "8989\n"
     ]
    }
   ],
   "source": [
    "import re\n",
    "list1 = {\"388\",\"78934903\",\"345678\",\"1234\",\"675\",\"87878\",\"4545\",\"8989\"}\n",
    "for i in list1:\n",
    "    if re.findall('^[0-9]{4}$',i):\n",
    "        print(i)"
   ]
  },
  {
   "cell_type": "markdown",
   "id": "5a8cde40",
   "metadata": {},
   "source": [
    "### 2. Validate a phone number using patterns"
   ]
  },
  {
   "cell_type": "code",
   "execution_count": 2,
   "id": "ad8e5aa8",
   "metadata": {},
   "outputs": [
    {
     "name": "stdout",
     "output_type": "stream",
     "text": [
      "9247888485\n",
      "8688532726\n",
      "7207201571\n"
     ]
    }
   ],
   "source": [
    "import re\n",
    "ph_list = [\"9247888485\",\"8688532726\",\"7207201571\",\"789654\",\"1234567890\"]\n",
    "for i in ph_list:\n",
    "    if re.findall('[6-9]{1}[0-9]{9}$',i):\n",
    "        print(i)"
   ]
  },
  {
   "cell_type": "code",
   "execution_count": null,
   "id": "f13d19da",
   "metadata": {},
   "outputs": [],
   "source": []
  }
 ],
 "metadata": {
  "kernelspec": {
   "display_name": "Python 3",
   "language": "python",
   "name": "python3"
  },
  "language_info": {
   "codemirror_mode": {
    "name": "ipython",
    "version": 3
   },
   "file_extension": ".py",
   "mimetype": "text/x-python",
   "name": "python",
   "nbconvert_exporter": "python",
   "pygments_lexer": "ipython3",
   "version": "3.8.8"
  }
 },
 "nbformat": 4,
 "nbformat_minor": 5
}
