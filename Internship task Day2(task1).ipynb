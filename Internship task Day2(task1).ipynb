{
 "cells": [
  {
   "cell_type": "code",
   "execution_count": 1,
   "id": "c7fb112f",
   "metadata": {},
   "outputs": [
    {
     "name": "stdout",
     "output_type": "stream",
     "text": [
      "19\n",
      "Eligible to vote\n"
     ]
    }
   ],
   "source": [
    "#Eligible to vote\n",
    "\n",
    "age=int(input())\n",
    "if(age>=0):\n",
    " if(age>=18):\n",
    "    print(\"Eligible to vote\")\n",
    " elif(age>=0 and age<18):\n",
    "    print(\"Not Eligible to vote\")\n",
    "else:\n",
    "    print(\"Wrong input\")\n",
    "    "
   ]
  },
  {
   "cell_type": "code",
   "execution_count": 2,
   "id": "2ed8907e",
   "metadata": {},
   "outputs": [
    {
     "name": "stdout",
     "output_type": "stream",
     "text": [
      "2\n",
      "2 is Positive\n"
     ]
    }
   ],
   "source": [
    "#positive or negative\n",
    "\n",
    "num=int(input())\n",
    "if(num>0):\n",
    "    print(num,\"is Positive\")\n",
    "elif(num==0):\n",
    "    print(num,\"is zero\")\n",
    "else:\n",
    "    print(num,\"is negative\")"
   ]
  },
  {
   "cell_type": "code",
   "execution_count": 3,
   "id": "afe16a00",
   "metadata": {},
   "outputs": [
    {
     "name": "stdout",
     "output_type": "stream",
     "text": [
      "64\n",
      "64 is even and divisible by 4\n"
     ]
    }
   ],
   "source": [
    "#Even and divisible by 4 or not\n",
    "\n",
    "num=int(input())\n",
    "if(num%2==0):\n",
    "    if(num%4==0):\n",
    "        print(num,\"is even and divisible by 4\")\n",
    "    else:\n",
    "        print(num,\"is even but not divisible by 4\")\n",
    "else:\n",
    "    print(num,\"is odd number\")\n",
    "    "
   ]
  },
  {
   "cell_type": "code",
   "execution_count": 4,
   "id": "1b6b9d4d",
   "metadata": {},
   "outputs": [
    {
     "name": "stdout",
     "output_type": "stream",
     "text": [
      "92\n",
      "Distinction\n"
     ]
    }
   ],
   "source": [
    "#Grade with percentage\n",
    "\n",
    "per=float(input())\n",
    "if(per>=90):\n",
    "    print(\"Distinction\")\n",
    "elif(per>=50):\n",
    "    print(\"Pass\")\n",
    "else:\n",
    "    print(\"Fail\")"
   ]
  },
  {
   "cell_type": "code",
   "execution_count": 1,
   "id": "039b8a84",
   "metadata": {},
   "outputs": [
    {
     "name": "stdout",
     "output_type": "stream",
     "text": [
      "2400\n",
      "2400  is leap a year\n"
     ]
    }
   ],
   "source": [
    "#Leap year or not \n",
    "\n",
    "year=int(input())\n",
    "if(year%4==0):\n",
    "    if(year%100==0):\n",
    "        if(year%400==0):\n",
    "            print(year,\" is leap a year\")\n",
    "        else:\n",
    "            print(year,\" is not a leap year\")\n",
    "    else:\n",
    "        print(year,\" is a leap year\")\n",
    "else:\n",
    "    print(year,\" is not a leap year\")\n",
    "    "
   ]
  },
  {
   "cell_type": "code",
   "execution_count": null,
   "id": "d4d543e7",
   "metadata": {},
   "outputs": [],
   "source": []
  }
 ],
 "metadata": {
  "kernelspec": {
   "display_name": "Python 3",
   "language": "python",
   "name": "python3"
  },
  "language_info": {
   "codemirror_mode": {
    "name": "ipython",
    "version": 3
   },
   "file_extension": ".py",
   "mimetype": "text/x-python",
   "name": "python",
   "nbconvert_exporter": "python",
   "pygments_lexer": "ipython3",
   "version": "3.8.8"
  }
 },
 "nbformat": 4,
 "nbformat_minor": 5
}
